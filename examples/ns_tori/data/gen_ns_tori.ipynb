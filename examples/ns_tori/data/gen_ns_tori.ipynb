{
 "cells": [
  {
   "cell_type": "code",
   "execution_count": 1,
   "metadata": {
    "executionInfo": {
     "elapsed": 59,
     "status": "ok",
     "timestamp": 1633721352624,
     "user": {
      "displayName": "",
      "photoUrl": "",
      "userId": ""
     },
     "user_tz": 240
    },
    "id": "l6TGVEMdxVDh"
   },
   "outputs": [],
   "source": [
    "import jax\n",
    "import jax.numpy as jnp\n",
    "import matplotlib.pyplot as plt\n",
    "\n",
    "import jax_cfd.base as cfd\n",
    "import jax_cfd.base.grids as grids\n",
    "import jax_cfd.spectral as spectral\n",
    "from jax_cfd.spectral import utils as spectral_utils\n",
    "\n",
    "from jax import vmap, jit"
   ]
  },
  {
   "cell_type": "markdown",
   "metadata": {
    "id": "ssWGabRRXvyW"
   },
   "source": [
    "# Decaying Turbulence"
   ]
  },
  {
   "cell_type": "code",
   "execution_count": 2,
   "metadata": {
    "executionInfo": {
     "elapsed": 6028,
     "status": "ok",
     "timestamp": 1633721359023,
     "user": {
      "displayName": "",
      "photoUrl": "",
      "userId": ""
     },
     "user_tz": 240
    },
    "id": "D4YDAo313MKR",
    "outputId": "bb0c2ed9-0e95-4650-cab2-6ef1ef0e4f82"
   },
   "outputs": [
    {
     "name": "stdout",
     "output_type": "stream",
     "text": [
      "CPU times: user 28.9 s, sys: 21.2 s, total: 50 s\n",
      "Wall time: 51.4 s\n"
     ]
    }
   ],
   "source": [
    "%%time \n",
    "# physical parameters\n",
    "viscosity = 1e-2\n",
    "max_velocity = 3\n",
    "grid = grids.Grid((1024, 1024), domain=((0, 2 * jnp.pi), (0, 2 * jnp.pi)))\n",
    "# dt = cfd.equations.stable_time_step(max_velocity, .5, viscosity, grid)\n",
    "dt = 5e-4\n",
    "\n",
    "# setup step function using crank-nicolson runge-kutta order 4\n",
    "smooth = True # use anti-aliasing \n",
    "step_fn = spectral.time_stepping.crank_nicolson_rk4(\n",
    "    spectral.equations.NavierStokes2D(viscosity, grid, smooth=smooth), dt)\n",
    "\n",
    "# run the simulation up until time 25.0 but only save 10 frames for visualization\n",
    "# final_time = 10.0\n",
    "outer_steps = 201\n",
    "inner_steps = 100\n",
    "\n",
    "trajectory_fn = cfd.funcutils.trajectory(\n",
    "    cfd.funcutils.repeated(step_fn, inner_steps), outer_steps)\n",
    "\n",
    "# create an initial velocity field and compute the fft of the vorticity.\n",
    "# the spectral code assumes an fft'd vorticity for an initial state\n",
    "v0 = cfd.initial_conditions.filtered_velocity_field(jax.random.PRNGKey(0), grid, max_velocity, 2)\n",
    "vorticity0 = cfd.finite_differences.curl_2d(v0).data\n",
    "vorticity_hat0 = jnp.fft.rfftn(vorticity0)\n",
    "\n",
    "_, trajectory = trajectory_fn(vorticity_hat0)\n"
   ]
  },
  {
   "cell_type": "code",
   "execution_count": 3,
   "metadata": {},
   "outputs": [],
   "source": [
    "w = jnp.fft.irfftn(trajectory, axes=(1,2))\n",
    "\n",
    "velocity_solve = spectral_utils.vorticity_to_velocity(grid)\n",
    "\n",
    "u_hat, v_hat = vmap(velocity_solve)(trajectory)\n",
    "u = vmap(jnp.fft.irfftn)(u_hat)\n",
    "v = vmap(jnp.fft.irfftn)(v_hat)\n",
    "\n",
    "x = jnp.arange(grid.shape[0]) * 2 * jnp.pi / grid.shape[0]\n",
    "y = jnp.arange(grid.shape[0]) * 2 * jnp.pi / grid.shape[0]\n",
    "t = dt * jnp.arange(outer_steps) * inner_steps\n",
    "\n",
    "u0 = u[0, :, :]\n",
    "v0 = v[0, :, :]\n",
    "w0 = w[0, :, :]\n",
    "\n",
    "data = {'w': w, 'u':u, 'v':v, 'u0':u0, 'v0':v0, 'w0':w0, 'x':x, 'y': y, 't':t, 'viscosity':viscosity}\n",
    "# jnp.save('ns_tori_high_res.npy', data)"
   ]
  },
  {
   "cell_type": "code",
   "execution_count": 4,
   "metadata": {},
   "outputs": [],
   "source": [
    "# Downsampling\n",
    "res = 8\n",
    "data = {'u': u[:, ::res, ::res], \n",
    "        'v': v[:, ::res, ::res], \n",
    "        'w': w[:, ::res, ::res], \n",
    "        'x': x[::res], \n",
    "        'y': y[::res], \n",
    "        't':t, \n",
    "        'viscosity':viscosity}\n",
    "\n",
    "jnp.save('ns_tori.npy', data)"
   ]
  },
  {
   "cell_type": "code",
   "execution_count": null,
   "metadata": {},
   "outputs": [],
   "source": []
  }
 ],
 "metadata": {
  "colab": {
   "collapsed_sections": [],
   "last_runtime": {
    "build_target": "//learning/deepmind/public/tools/ml_python:ml_notebook",
    "kind": "private"
   },
   "name": "spectral_forced_turbulence.ipynb",
   "provenance": [
    {
     "file_id": "1lwAg_n3KcxcxvO1nqSWg83GKbVv8ooqR",
     "timestamp": 1633704884754
    }
   ]
  },
  "kernelspec": {
   "display_name": "Python 3 (ipykernel)",
   "language": "python",
   "name": "python3"
  },
  "language_info": {
   "codemirror_mode": {
    "name": "ipython",
    "version": 3
   },
   "file_extension": ".py",
   "mimetype": "text/x-python",
   "name": "python",
   "nbconvert_exporter": "python",
   "pygments_lexer": "ipython3",
   "version": "3.9.13"
  }
 },
 "nbformat": 4,
 "nbformat_minor": 1
}
