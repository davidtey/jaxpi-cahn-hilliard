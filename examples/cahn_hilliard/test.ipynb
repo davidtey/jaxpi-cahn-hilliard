{
 "cells": [
  {
   "cell_type": "code",
   "execution_count": 1,
   "metadata": {},
   "outputs": [
    {
     "name": "stderr",
     "output_type": "stream",
     "text": [
      "WARNING:absl:Tensorflow library not found, tensorflow.io.gfile operations will use native shim calls. GCS paths (i.e. 'gs://...') cannot be accessed.\n"
     ]
    }
   ],
   "source": [
    "from jaxpi.samplers import UniformSampler, TimeSpaceSampler\n",
    "import jax\n",
    "import jax.numpy as jnp\n",
    "from jax import random"
   ]
  },
  {
   "cell_type": "code",
   "execution_count": 10,
   "metadata": {},
   "outputs": [],
   "source": [
    "keys = random.split(random.PRNGKey(0), 2)\n",
    "\n",
    "bc_sampler = iter(TimeSpaceSampler(jnp.array([0, 1]), jnp.array([[-40], [40]]), 1024, keys[1]))\n",
    "res_sampler = iter(UniformSampler(jnp.array([[0, 1], [-40, 40]]), 1024))"
   ]
  },
  {
   "cell_type": "code",
   "execution_count": 7,
   "metadata": {},
   "outputs": [],
   "source": [
    "def get_dataset():\n",
    "    data = jnp.load(\"../ns_unsteady_cylinder/data/ns_unsteady.npy\", allow_pickle=True).item()\n",
    "    u_ref = jnp.array(data[\"u\"])\n",
    "    v_ref = jnp.array(data[\"v\"])\n",
    "    p_ref = jnp.array(data[\"p\"])\n",
    "    t = jnp.array(data[\"t\"])\n",
    "    coords = jnp.array(data[\"coords\"])\n",
    "    inflow_coords = jnp.array(data[\"inflow_coords\"])\n",
    "    outflow_coords = jnp.array(data[\"outflow_coords\"])\n",
    "    wall_coords = jnp.array(data[\"wall_coords\"])\n",
    "    cylinder_coords = jnp.array(data[\"cylinder_coords\"])\n",
    "    nu = jnp.array(data[\"nu\"])\n",
    "\n",
    "    return (\n",
    "        u_ref,\n",
    "        v_ref,\n",
    "        p_ref,\n",
    "        coords,\n",
    "        inflow_coords,\n",
    "        outflow_coords,\n",
    "        wall_coords,\n",
    "        cylinder_coords,\n",
    "        nu,\n",
    "    )"
   ]
  },
  {
   "cell_type": "code",
   "execution_count": 8,
   "metadata": {},
   "outputs": [],
   "source": [
    "(u_ref,\n",
    "v_ref,\n",
    "p_ref,\n",
    "coords,\n",
    "inflow_coords,\n",
    "outflow_coords,\n",
    "wall_coords,\n",
    "cylinder_coords,\n",
    "nu) = get_dataset()"
   ]
  },
  {
   "cell_type": "code",
   "execution_count": null,
   "metadata": {},
   "outputs": [],
   "source": [
    "cylinder_coords"
   ]
  },
  {
   "cell_type": "code",
   "execution_count": 14,
   "metadata": {},
   "outputs": [],
   "source": [
    "bc_batch = next(bc_sampler)"
   ]
  },
  {
   "cell_type": "code",
   "execution_count": 15,
   "metadata": {},
   "outputs": [
    {
     "name": "stdout",
     "output_type": "stream",
     "text": [
      "(1, 1024, 2)\n"
     ]
    }
   ],
   "source": [
    "print(bc_batch.shape)"
   ]
  },
  {
   "cell_type": "code",
   "execution_count": 16,
   "metadata": {},
   "outputs": [
    {
     "name": "stdout",
     "output_type": "stream",
     "text": [
      "[[[ 4.1940629e-01 -4.0000000e+01]\n",
      "  [ 6.6761088e-01  4.0000000e+01]\n",
      "  [ 3.8452351e-01  4.0000000e+01]\n",
      "  ...\n",
      "  [ 2.5096536e-02 -4.0000000e+01]\n",
      "  [ 7.5689876e-01  4.0000000e+01]\n",
      "  [ 2.5779605e-01  4.0000000e+01]]]\n"
     ]
    }
   ],
   "source": [
    "print(bc_batch)"
   ]
  },
  {
   "cell_type": "code",
   "execution_count": 17,
   "metadata": {},
   "outputs": [],
   "source": [
    "res_batch = next(res_sampler)"
   ]
  },
  {
   "cell_type": "code",
   "execution_count": 18,
   "metadata": {},
   "outputs": [
    {
     "data": {
      "text/plain": [
       "(1, 1024, 2)"
      ]
     },
     "execution_count": 18,
     "metadata": {},
     "output_type": "execute_result"
    }
   ],
   "source": [
    "res_batch.shape"
   ]
  },
  {
   "cell_type": "code",
   "execution_count": 19,
   "metadata": {},
   "outputs": [
    {
     "name": "stdout",
     "output_type": "stream",
     "text": [
      "[[[  0.04222476 -37.99593   ]\n",
      "  [  0.40596855  18.689545  ]\n",
      "  [  0.76640415   5.391903  ]\n",
      "  ...\n",
      "  [  0.7516272   -6.8242645 ]\n",
      "  [  0.19691885   4.2408066 ]\n",
      "  [  0.823333   -35.742752  ]]]\n"
     ]
    }
   ],
   "source": [
    "print(res_batch)"
   ]
  }
 ],
 "metadata": {
  "kernelspec": {
   "display_name": "jaxpi",
   "language": "python",
   "name": "python3"
  },
  "language_info": {
   "codemirror_mode": {
    "name": "ipython",
    "version": 3
   },
   "file_extension": ".py",
   "mimetype": "text/x-python",
   "name": "python",
   "nbconvert_exporter": "python",
   "pygments_lexer": "ipython3",
   "version": "3.13.1"
  }
 },
 "nbformat": 4,
 "nbformat_minor": 2
}
